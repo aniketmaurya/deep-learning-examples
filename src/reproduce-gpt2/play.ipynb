{
 "cells": [
  {
   "cell_type": "code",
   "execution_count": 1,
   "metadata": {},
   "outputs": [],
   "source": [
    "import torch\n",
    "from torch.nn import functional as F\n",
    "import torch.nn as nn\n",
    "\n",
    "# Input shape: (batch_size, seq_len, hidden_dim) or B x T x C\n",
    "# Output shape: (batch_size, seq_len, hidden_dim) or B x T x C\n",
    "\n",
    "device = \"cuda\" if torch.cuda.is_available() else \"cpu\"\n"
   ]
  },
  {
   "cell_type": "code",
   "execution_count": 2,
   "metadata": {},
   "outputs": [],
   "source": [
    "class Config:\n",
    "    context_length=512\n",
    "    embedding_dim=64\n",
    "    num_heads=4"
   ]
  },
  {
   "cell_type": "code",
   "execution_count": 10,
   "metadata": {},
   "outputs": [],
   "source": [
    "class MultiHeadAttention(nn.Module):\n",
    "    def __init__(self):\n",
    "        super().__init__()\n",
    "        self.head_size = Config.embedding_dim // Config.num_heads\n",
    "        C = Config.embedding_dim\n",
    "        self.attn = nn.Linear(C, C*3, bias=False, device=device)\n",
    "        self.softmax = nn.Softmax()\n",
    "        self.register_buffer(\n",
    "            \"bias\", torch.tril(torch.ones(Config.context_length, Config.context_length, device=device))\n",
    "        )\n",
    "        self.out_proj = nn.Linear(C, C)\n",
    "\n",
    "    \n",
    "    def forward(self, x,inbuilt_attn=True):\n",
    "        B, T, C = x.shape\n",
    "        qkv = self.attn(x)\n",
    "        # k: BxTxC\n",
    "        # q: BxTxC\n",
    "        # v: BxTxC\n",
    "        q, k, v = qkv.split(C, dim=-1)\n",
    "\n",
    "        nh = Config.num_heads\n",
    "        k = k.view(B, T, nh, C // nh).transpose(1, 2)  # B x nh, T, hs\n",
    "        q = q.view(B, T, nh, C // nh).transpose(1, 2)  # B x nh, T, hs\n",
    "        v = v.view(B, T, nh, C // nh).transpose(1, 2)  # B x nh, T, hs\n",
    "\n",
    "        if inbuilt_attn:\n",
    "            y = F.scaled_dot_product_attention(q, k, v, is_causal=True) # flash attention\n",
    "\n",
    "        else:\n",
    "            wei = ((q @ k.transpose(-2, -1))* k.size(-1)**-0.5) # B x nh x T x T\n",
    "            wei = wei.masked_fill(self.bias[:T, :T]==0, float(\"-inf\"))\n",
    "            wei = F.softmax(wei, dim=-1)\n",
    "            y = wei @ v\n",
    "            y = y.transpose(1, 2)\n",
    "\n",
    "        # https://stackoverflow.com/questions/48915810/what-does-contiguous-do-in-pytorch\n",
    "        y  = y.contiguous().view(B, T, C)\n",
    "        return self.out_proj(y)\n",
    "    "
   ]
  },
  {
   "cell_type": "code",
   "execution_count": 11,
   "metadata": {},
   "outputs": [
    {
     "data": {
      "text/plain": [
       "torch.Size([4, 10, 64])"
      ]
     },
     "execution_count": 11,
     "metadata": {},
     "output_type": "execute_result"
    }
   ],
   "source": [
    "mha = MultiHeadAttention()\n",
    "\n",
    "B, T, C = 4, 10, Config.embedding_dim\n",
    "x = torch.randn(B, T, C)\n",
    "mha(x).shape"
   ]
  },
  {
   "cell_type": "code",
   "execution_count": 12,
   "metadata": {},
   "outputs": [],
   "source": [
    "with torch.no_grad():\n",
    "    y1 = mha(x, inbuilt_attn=True)\n",
    "    y2 = mha(x, inbuilt_attn=False)"
   ]
  },
  {
   "cell_type": "code",
   "execution_count": 6,
   "metadata": {},
   "outputs": [
    {
     "data": {
      "text/plain": [
       "(tensor([-0.0521, -0.1870,  0.0028,  0.4239,  0.0067]),\n",
       " tensor([-0.4268, -0.0518, -0.0083,  0.0816, -0.5620]))"
      ]
     },
     "execution_count": 6,
     "metadata": {},
     "output_type": "execute_result"
    }
   ],
   "source": [
    "y1[0][0][:5], y2[0][0][:5]"
   ]
  },
  {
   "cell_type": "code",
   "execution_count": null,
   "metadata": {},
   "outputs": [],
   "source": []
  },
  {
   "cell_type": "code",
   "execution_count": null,
   "metadata": {},
   "outputs": [],
   "source": []
  }
 ],
 "metadata": {
  "kernelspec": {
   "display_name": "am",
   "language": "python",
   "name": "python3"
  },
  "language_info": {
   "codemirror_mode": {
    "name": "ipython",
    "version": 3
   },
   "file_extension": ".py",
   "mimetype": "text/x-python",
   "name": "python",
   "nbconvert_exporter": "python",
   "pygments_lexer": "ipython3",
   "version": "3.11.10"
  }
 },
 "nbformat": 4,
 "nbformat_minor": 2
}
