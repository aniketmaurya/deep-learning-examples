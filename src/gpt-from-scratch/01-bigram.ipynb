{
 "cells": [
  {
   "cell_type": "code",
   "execution_count": 9,
   "metadata": {},
   "outputs": [],
   "source": [
    "import torch"
   ]
  },
  {
   "cell_type": "code",
   "execution_count": 26,
   "metadata": {},
   "outputs": [],
   "source": [
    "with open(\"input.txt\", \"r\") as fr:\n",
    "    text = fr.read()"
   ]
  },
  {
   "cell_type": "code",
   "execution_count": 27,
   "metadata": {},
   "outputs": [],
   "source": [
    "chars = sorted(set(text))\n",
    "vocab_size = len(chars)"
   ]
  },
  {
   "cell_type": "code",
   "execution_count": 28,
   "metadata": {},
   "outputs": [],
   "source": [
    "stoi = {c:i for i, c in enumerate(chars)}\n",
    "itos = {i:c for i, c in enumerate(chars)}"
   ]
  },
  {
   "cell_type": "code",
   "execution_count": 29,
   "metadata": {},
   "outputs": [],
   "source": [
    "# 'hello'\n",
    "encode = lambda s: [stoi[ch] for ch in s]\n",
    "decode = lambda l: \"\".join([itos[i] for i in l])"
   ]
  },
  {
   "cell_type": "code",
   "execution_count": 30,
   "metadata": {},
   "outputs": [
    {
     "data": {
      "text/plain": [
       "'hello, I am learning GPT from scratch'"
      ]
     },
     "execution_count": 30,
     "metadata": {},
     "output_type": "execute_result"
    }
   ],
   "source": [
    "decode(encode(\"hello, I am learning GPT from scratch\"))"
   ]
  },
  {
   "cell_type": "code",
   "execution_count": 31,
   "metadata": {},
   "outputs": [],
   "source": [
    "data = torch.tensor(encode(text), dtype=torch.long)\n",
    "n = int(0.9*len(data))\n",
    "train_data = data[:n]\n",
    "val_data = data[n:]"
   ]
  },
  {
   "cell_type": "code",
   "execution_count": 32,
   "metadata": {},
   "outputs": [],
   "source": [
    "block_size = 8\n",
    "batch_size = 4"
   ]
  },
  {
   "cell_type": "code",
   "execution_count": 33,
   "metadata": {},
   "outputs": [],
   "source": [
    "def get_split(split):\n",
    "    data = train_data if split == \"train\" else val_data\n",
    "    idx = torch.randint(len(data)-block_size, size=(batch_size,))\n",
    "    \n",
    "    x = torch.stack([data[i : i+block_size] for i in idx])\n",
    "    y = torch.stack([data[i+1 : i + block_size + 1] for i in idx])\n",
    "    return x, y"
   ]
  },
  {
   "cell_type": "code",
   "execution_count": 34,
   "metadata": {},
   "outputs": [],
   "source": [
    "x, y = get_split(\"train\")"
   ]
  },
  {
   "cell_type": "code",
   "execution_count": 35,
   "metadata": {},
   "outputs": [
    {
     "name": "stdout",
     "output_type": "stream",
     "text": [
      "when context is [27], the output is: 24\n",
      "when context is [27, 24], the output is: 13\n",
      "when context is [27, 24, 13], the output is: 26\n",
      "when context is [27, 24, 13, 26], the output is: 33\n",
      "when context is [27, 24, 13, 26, 33], the output is: 31\n",
      "when context is [27, 24, 13, 26, 33, 31], the output is: 10\n",
      "when context is [27, 24, 13, 26, 33, 31, 10], the output is: 0\n",
      "when context is [27, 24, 13, 26, 33, 31, 10, 0], the output is: 21\n",
      "----------\n",
      "when context is [56], the output is: 44\n",
      "when context is [56, 44], the output is: 59\n",
      "when context is [56, 44, 59], the output is: 50\n",
      "when context is [56, 44, 59, 50], the output is: 1\n",
      "when context is [56, 44, 59, 50, 1], the output is: 40\n",
      "when context is [56, 44, 59, 50, 1, 40], the output is: 43\n",
      "when context is [56, 44, 59, 50, 1, 40, 43], the output is: 52\n",
      "when context is [56, 44, 59, 50, 1, 40, 43, 52], the output is: 42\n",
      "----------\n",
      "when context is [52], the output is: 42\n",
      "when context is [52, 42], the output is: 1\n",
      "when context is [52, 42, 1], the output is: 58\n",
      "when context is [52, 42, 1, 58], the output is: 46\n",
      "when context is [52, 42, 1, 58, 46], the output is: 56\n",
      "when context is [52, 42, 1, 58, 46, 56], the output is: 47\n",
      "when context is [52, 42, 1, 58, 46, 56, 47], the output is: 60\n",
      "when context is [52, 42, 1, 58, 46, 56, 47, 60], the output is: 43\n",
      "----------\n",
      "when context is [41], the output is: 43\n",
      "when context is [41, 43], the output is: 44\n",
      "when context is [41, 43, 44], the output is: 53\n",
      "when context is [41, 43, 44, 53], the output is: 56\n",
      "when context is [41, 43, 44, 53, 56], the output is: 58\n",
      "when context is [41, 43, 44, 53, 56, 58], the output is: 46\n",
      "when context is [41, 43, 44, 53, 56, 58, 46], the output is: 1\n",
      "when context is [41, 43, 44, 53, 56, 58, 46, 1], the output is: 57\n",
      "----------\n"
     ]
    }
   ],
   "source": [
    "for b in range(batch_size):\n",
    "    for t in range(block_size):\n",
    "        xb = x[b, :t+1].tolist()\n",
    "        yb = y[b, t].tolist()\n",
    "        print(f\"when context is {xb}, the output is: {yb}\")\n",
    "    print(\"----------\")"
   ]
  },
  {
   "cell_type": "code",
   "execution_count": 1,
   "metadata": {},
   "outputs": [],
   "source": [
    "from torch import nn"
   ]
  },
  {
   "cell_type": "code",
   "execution_count": 76,
   "metadata": {},
   "outputs": [],
   "source": [
    "from torch.nn import functional as F"
   ]
  },
  {
   "cell_type": "code",
   "execution_count": 83,
   "metadata": {},
   "outputs": [],
   "source": [
    "class BigramLanguageModel(nn.Module):\n",
    "    def __init__(self, vocab_size: int) -> None:\n",
    "        super().__init__()\n",
    "        self.emb_table = nn.Embedding(vocab_size, vocab_size)\n",
    "        self.loss_fn = nn.CrossEntropyLoss()\n",
    "    \n",
    "    def forward(self, idx, targets = None):\n",
    "        logits = self.emb_table(idx)  # B X T X C, C=vocab_size\n",
    "        B, T, C = logits.shape\n",
    "        loss = None\n",
    "        if targets is not None: # targets -> B x T\n",
    "            logits = logits.view(B*T, C)\n",
    "            targets = targets.view(B*T)\n",
    "            loss = self.loss_fn(logits, targets)\n",
    "        return logits, loss\n",
    "    \n",
    "\n",
    "    def generate(self, \n",
    "                 idx,  # BT\n",
    "                 max_new_tokens=200\n",
    "                 ):\n",
    "        for _ in range(max_new_tokens):\n",
    "            logits, loss = self(idx)  # BTC\n",
    "            logits = logits[:, -1, :]  # BC\n",
    "            probs = F.softmax(logits, dim=-1) # BC\n",
    "            idx_next = torch.multinomial(probs, num_samples=1) # B\n",
    "            idx = torch.cat([idx, idx_next], dim=1)\n",
    "        return idx"
   ]
  },
  {
   "cell_type": "code",
   "execution_count": 84,
   "metadata": {},
   "outputs": [],
   "source": [
    "model = BigramLanguageModel(vocab_size=vocab_size)\n",
    "logits, loss = model(x, y)"
   ]
  },
  {
   "cell_type": "code",
   "execution_count": 115,
   "metadata": {},
   "outputs": [
    {
     "name": "stdout",
     "output_type": "stream",
     "text": [
      "th fire\n",
      "LUCl, and Thin, the s anthe t t we?\n",
      "APed, frkestwery\n",
      "Athe gn-whe;\n",
      "T:\n",
      "\n",
      "Tybe y ay py t; t d lant houifit beanthe whaje, se.\n",
      "Gow tooth jor arecitel tcenonodind, LI tashiecelby wed y bloy, rsmbl win the!\n",
      "\n"
     ]
    }
   ],
   "source": [
    "print(decode(model.generate(x)[0].tolist()))"
   ]
  },
  {
   "cell_type": "code",
   "execution_count": 89,
   "metadata": {},
   "outputs": [],
   "source": [
    "optimizer = torch.optim.AdamW(model.parameters(), lr=1e-3)"
   ]
  },
  {
   "cell_type": "code",
   "execution_count": 114,
   "metadata": {},
   "outputs": [
    {
     "name": "stdout",
     "output_type": "stream",
     "text": [
      "2.4618847370147705\n"
     ]
    }
   ],
   "source": [
    "batch_size = 32\n",
    "for steps in range(1000):\n",
    "    x, y = get_split(\"train\")\n",
    "    logits, loss = model(x, y)\n",
    "    optimizer.zero_grad(set_to_none=True)\n",
    "    loss.backward()\n",
    "    optimizer.step()\n",
    "\n",
    "print(loss.item())"
   ]
  },
  {
   "cell_type": "code",
   "execution_count": null,
   "metadata": {},
   "outputs": [],
   "source": []
  }
 ],
 "metadata": {
  "kernelspec": {
   "display_name": "Python 3 (ipykernel)",
   "language": "python",
   "name": "python3"
  },
  "language_info": {
   "codemirror_mode": {
    "name": "ipython",
    "version": 3
   },
   "file_extension": ".py",
   "mimetype": "text/x-python",
   "name": "python",
   "nbconvert_exporter": "python",
   "pygments_lexer": "ipython3",
   "version": "3.11.4"
  }
 },
 "nbformat": 4,
 "nbformat_minor": 4
}
