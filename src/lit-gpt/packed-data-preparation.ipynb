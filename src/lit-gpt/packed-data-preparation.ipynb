{
 "cells": [
  {
   "cell_type": "markdown",
   "id": "6d935cbc-e957-4c29-ac61-4df51b2f4bff",
   "metadata": {},
   "source": [
    "# Packed data preparation\n",
    "\n",
    "\n",
    "Inspiriation from @capetorch's post : https://wandb.ai/capecape/alpaca_ft/reports/How-to-fine-tune-an-LLM-Part-1-Preparing-a-Dataset-for-Instruction-Tuning--Vmlldzo1NTcxNzE2"
   ]
  },
  {
   "cell_type": "code",
   "execution_count": null,
   "id": "4ac086e9-fda1-430b-b84c-cba65c9e98f6",
   "metadata": {},
   "outputs": [],
   "source": []
  }
 ],
 "metadata": {
  "kernelspec": {
   "display_name": "Python 3",
   "language": "python",
   "name": "python3"
  },
  "language_info": {
   "codemirror_mode": {
    "name": "ipython",
    "version": 3
   },
   "file_extension": ".py",
   "mimetype": "text/x-python",
   "name": "python",
   "nbconvert_exporter": "python",
   "pygments_lexer": "ipython3",
   "version": "3.10.11"
  }
 },
 "nbformat": 4,
 "nbformat_minor": 5
}
