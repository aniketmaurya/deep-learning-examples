{
 "cells": [
  {
   "cell_type": "markdown",
   "id": "6d935cbc-e957-4c29-ac61-4df51b2f4bff",
   "metadata": {},
   "source": [
    "# Packed data preparation\n",
    "\n",
    "\n",
    "Inspiriation from @capetorch's post : https://wandb.ai/capecape/alpaca_ft/reports/How-to-fine-tune-an-LLM-Part-1-Preparing-a-Dataset-for-Instruction-Tuning--Vmlldzo1NTcxNzE2"
   ]
  },
  {
   "cell_type": "code",
   "execution_count": 2,
   "id": "9a1fc685-4c9f-4d94-a72a-68a05e509378",
   "metadata": {},
   "outputs": [
    {
     "name": "stdout",
     "output_type": "stream",
     "text": [
      "/teamspace/studios/this_studio/lit-gpt\n"
     ]
    }
   ],
   "source": [
    "%cd lit-gpt"
   ]
  },
  {
   "cell_type": "markdown",
   "id": "579ccfed-2f09-4267-bae1-ec412ffa8a4f",
   "metadata": {},
   "source": [
    "## Default preparation script\n",
    "```\n",
    "python scripts/prepare_alpaca.py \\\n",
    "        --checkpoint_dir checkpoints/meta-llama/Llama-2-7b-hf \\\n",
    "        --max_seq_length 256\n",
    "```"
   ]
  },
  {
   "cell_type": "code",
   "execution_count": 9,
   "id": "70210980-351a-4e2c-87f8-9c6621646c1b",
   "metadata": {},
   "outputs": [],
   "source": [
    "import torch\n",
    "from lit_gpt import Tokenizer\n",
    "from pathlib import Path"
   ]
  },
  {
   "cell_type": "code",
   "execution_count": 4,
   "id": "d769b42e-dafb-415f-9079-ca0d17b52dd2",
   "metadata": {},
   "outputs": [],
   "source": [
    "data = torch.load(\"data/alpaca/test.pt\")"
   ]
  },
  {
   "cell_type": "code",
   "execution_count": 5,
   "id": "31233478-40c9-4aec-bf20-f75bf117a51b",
   "metadata": {},
   "outputs": [
    {
     "data": {
      "text/plain": [
       "dict_keys(['instruction', 'input', 'output', 'input_ids', 'input_ids_no_response', 'labels'])"
      ]
     },
     "execution_count": 5,
     "metadata": {},
     "output_type": "execute_result"
    }
   ],
   "source": [
    "data[0].keys()"
   ]
  },
  {
   "cell_type": "code",
   "execution_count": 6,
   "id": "20bfc3da-b87d-4cc9-9ae2-aa7fe8670d23",
   "metadata": {},
   "outputs": [],
   "source": [
    "input_ids = data[0][\"input_ids\"]\n",
    "labels = data[0][\"labels\"]"
   ]
  },
  {
   "cell_type": "code",
   "execution_count": 10,
   "id": "f6fc76e4-9a61-43eb-9ceb-f953958a5170",
   "metadata": {},
   "outputs": [],
   "source": [
    "checkpoint_dir = Path(\"checkpoints/meta-llama/Llama-2-7b-hf\")"
   ]
  },
  {
   "cell_type": "code",
   "execution_count": 11,
   "id": "2081b492-80ac-478b-b674-274ecaa89438",
   "metadata": {},
   "outputs": [],
   "source": [
    "tokenizer = Tokenizer(checkpoint_dir)"
   ]
  },
  {
   "cell_type": "code",
   "execution_count": 13,
   "id": "6d90ca0e-0568-4085-beb5-6765ea5d015c",
   "metadata": {},
   "outputs": [
    {
     "name": "stdout",
     "output_type": "stream",
     "text": [
      "Below is an instruction that describes a task, paired with an input that provides further context. Write a response that appropriately completes the request.\n",
      "\n",
      "### Instruction:\n",
      "Analyze the label of the alcohol and tell what the bottle contains.\n",
      "\n",
      "### Input:\n",
      "Label: an Irish Whiskey with a smooth finish.\n",
      "\n",
      "### Response:This bottle of whiskey is most likely an Irish blend made from a combination of malted and unmalted barley, distilled three times and matured in oak casks. It will have a smooth finish and is likely to have notes of honey, toffee and vanilla.\n"
     ]
    }
   ],
   "source": [
    "print(tokenizer.decode(input_ids))"
   ]
  },
  {
   "cell_type": "code",
   "execution_count": 14,
   "id": "6324151e-983c-4a5d-a2f1-ba7fb79fc9a1",
   "metadata": {},
   "outputs": [
    {
     "name": "stdout",
     "output_type": "stream",
     "text": [
      "Below is an instruction that describes a task, paired with an input that provides further context. Write a response that appropriately completes the request.\n",
      "\n",
      "### Instruction:\n",
      "Analyze the label of the alcohol and tell what the bottle contains.\n",
      "\n",
      "### Input:\n",
      "Label: an Irish Whiskey with a smooth finish.\n",
      "\n",
      "### Response:This bottle of whiskey is most likely an Irish blend made from a combination of malted and unmalted barley, distilled three times and matured in oak casks. It will have a smooth finish and is likely to have notes of honey, toffee and vanilla.\n"
     ]
    }
   ],
   "source": [
    "print(tokenizer.decode(labels))"
   ]
  },
  {
   "cell_type": "code",
   "execution_count": null,
   "id": "3701f9d0-f848-4299-87a8-ed05885ad221",
   "metadata": {},
   "outputs": [],
   "source": [
    "# python finetune/lora.py --checkpoint_dir ./checkpoints/meta-llama/Llama-2-7b-hf/ --data_dir data/alpaca --precision bf16-true"
   ]
  },
  {
   "cell_type": "code",
   "execution_count": null,
   "id": "e9537362-a1f7-402f-8107-30a4a3ad4ac5",
   "metadata": {},
   "outputs": [],
   "source": []
  },
  {
   "cell_type": "code",
   "execution_count": null,
   "id": "9f1936a5-85a2-4b4d-a269-4902b6b842db",
   "metadata": {},
   "outputs": [],
   "source": []
  }
 ],
 "metadata": {
  "kernelspec": {
   "display_name": "Python 3",
   "language": "python",
   "name": "python3"
  },
  "language_info": {
   "codemirror_mode": {
    "name": "ipython",
    "version": 3
   },
   "file_extension": ".py",
   "mimetype": "text/x-python",
   "name": "python",
   "nbconvert_exporter": "python",
   "pygments_lexer": "ipython3",
   "version": "3.10.11"
  }
 },
 "nbformat": 4,
 "nbformat_minor": 5
}
